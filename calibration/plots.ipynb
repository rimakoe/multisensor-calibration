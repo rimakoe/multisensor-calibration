{
 "cells": [
  {
   "cell_type": "code",
   "execution_count": 11,
   "metadata": {},
   "outputs": [
    {
     "data": {
      "application/vnd.plotly.v1+json": {
       "config": {
        "plotlyServerURL": "https://plot.ly"
       },
       "data": [
        {
         "hovertemplate": "<b>%{hovertext}</b><br><br>x=%{x}<br>y=%{y}<br>z=%{z}<extra></extra>",
         "hovertext": {
          "bdata": "AAAAAAAAAAAAAAAAAADwPwAAAAAAAABAAAAAAAAACEAAAAAAAAAQQAAAAAAAABRAAAAAAAAAGEAAAAAAAAAcQAAAAAAAACBAAAAAAAAAIkAAAAAAAAAkQAAAAAAAACZAAAAAAAAAKEAAAAAAAAAqQAAAAAAAACxAAAAAAAAALkAAAAAAAAAwQAAAAAAAADFAAAAAAAAAKEAAAAAAAAAqQAAAAAAAACxAAAAAAAAALkAAAAAAAAAwQAAAAAAAADFAAAAAAAAAMkAAAAAAAAAzQAAAAAAAADRAAAAAAAAANUAAAAAAAAA2QAAAAAAAADdAAAAAAAAAOEAAAAAAAAA5QAAAAAAAADpAAAAAAAAAO0AAAAAAAAA8QAAAAAAAAD1AAAAAAAAAOEAAAAAAAAA5QAAAAAAAADpAAAAAAAAAO0AAAAAAAAA8QAAAAAAAAD1AAAAAAAAAPkAAAAAAAAA/QAAAAAAAAEBAAAAAAACAQEAAAAAAAABBQAAAAAAAgEFAAAAAAAAAQkAAAAAAAIBCQAAAAAAAAENAAAAAAACAQ0AAAAAAAABEQAAAAAAAgERAAAAAAAAAQkAAAAAAAIBCQAAAAAAAAENAAAAAAACAQ0AAAAAAAABEQAAAAAAAgERAAAAAAAAARUAAAAAAAIBFQAAAAAAAAEZAAAAAAACARkAAAAAAAABHQAAAAAAAgEdAAAAAAAAASEAAAAAAAIBIQAAAAAAAAElAAAAAAACASUAAAAAAAABKQAAAAAAAgEpAAAAAAAAASEAAAAAAAIBIQAAAAAAAAElAAAAAAACASUAAAAAAAABKQAAAAAAAgEpAAAAAAAAAS0AAAAAAAIBLQAAAAAAAAExAAAAAAACATEAAAAAAAABNQAAAAAAAgE1AAAAAAAAATkAAAAAAAIBOQAAAAAAAAE9AAAAAAACAT0AAAAAAAABQQAAAAAAAQFBAAAAAAAAATkAAAAAAAIBOQAAAAAAAAE9AAAAAAACAT0AAAAAAAABQQAAAAAAAQFBAAAAAAACAUEAAAAAAAMBQQAAAAAAAAFFAAAAAAABAUUAAAAAAAIBRQAAAAAAAwFFAAAAAAAAAUkAAAAAAAEBSQAAAAAAAgFJAAAAAAADAUkAAAAAAAABTQAAAAAAAQFNAAAAAAAAAUkAAAAAAAEBSQAAAAAAAgFJAAAAAAADAUkAAAAAAAABTQAAAAAAAQFNAAAAAAACAU0AAAAAAAMBTQAAAAAAAAFRAAAAAAABAVEAAAAAAAIBUQAAAAAAAwFRAAAAAAAAAVUAAAAAAAEBVQAAAAAAAgFVAAAAAAADAVUAAAAAAAABWQAAAAAAAQFZAAAAAAAAAVUAAAAAAAEBVQAAAAAAAgFVAAAAAAADAVUAAAAAAAABWQAAAAAAAQFZAAAAAAACAVkAAAAAAAMBWQAAAAAAAAFdAAAAAAABAV0AAAAAAAIBXQAAAAAAAwFdAAAAAAAAAWEAAAAAAAEBYQAAAAAAAgFhAAAAAAADAWEAAAAAAAABZQAAAAAAAQFlA",
          "dtype": "f8"
         },
         "legendgroup": "",
         "marker": {
          "color": "#636efa",
          "size": 2,
          "symbol": "circle"
         },
         "mode": "markers",
         "name": "",
         "scene": "scene",
         "showlegend": false,
         "type": "scatter3d",
         "x": {
          "bdata": "7Oc8J20xCkDs5zwnbTEKQOznPCdtMQpA7Oc8J20xC0Ds5zwnbTELQOrnPCdtMQxAt9GzacMlC0C30bNpwyULQLfRs2nDJQtAe45t1ST+C0B5jm3VJP4LQDxLJ0GG1gxAt9GzacMlC0C30bNpwyULQLfRs2nDJQtAeY5t1ST+C0B7jm3VJP4LQDxLJ0GG1gxAk0njdWAgBUBsXv866bgCQEVzGwByUQBA3k2ly6mhBEC3YsGQMjoCQClSZyHzIgRASJnggNS1/z9ImeCA1LX/P0aZ4IDUtf8/d2+VpAm8AUB1b5WkCbwBQEiSuggpnQNACaR7onPwBkAKpHuic/AGQAqke6Jz8AZAqlPXXlZBBkCqU9deVkEGQEsDMxs5kgVAMTMzMzMz2z/ZzvdT46WTvDUzMzMzM9u/MDMzMzMzyz8zMzMzMzPLv6FJDAIrhzY8CaZkzXQJ5L8KpmTNdAnkvwqmZM10CeS/XmCyAq2S2b9eYLICrZLZv1HpNtXgJMa/CqZkzXQJ5D8JpmTNdAnkPwimZM10CeQ/XmCyAq2S2T9eYLICrZLZP1TpNtXgJMY/Q3MbAHJRAMBsXv866bgCwJRJ43VgIAXAtmLBkDI6AsDeTaXLqaEEwClSZyHzIgTACqR7onPwBsAKpHuic/AGwAmke6Jz8AbAqlPXXlZBBsCqU9deVkEGwEsDMxs5kgXARpnggNS1/79ImeCA1LX/v0iZ4IDUtf+/dW+VpAm8AcB3b5WkCbwBwEeSuggpnQPA6uc8J20xCsDs5zwnbTEKwOznPCdtMQrA6uc8J20xC8Ds5zwnbTELwOrnPCdtMQzAt9GzacMlC8C30bNpwyULwLfRs2nDJQvAe45t1ST+C8B5jm3VJP4LwDxLJ0GG1gzAttGzacMlC8C30bNpwyULwLfRs2nDJQvAeY5t1ST+C8B7jm3VJP4LwDxLJ0GG1gzAlEnjdWAgBcBsXv866bgCwENzGwByUQDA3k2ly6mhBMC2YsGQMjoCwClSZyHzIgTASJnggNS1/79ImeCA1LX/v0aZ4IDUtf+/d2+VpAm8AcB1b5WkCbwBwEeSuggpnQPACaR7onPwBsAKpHuic/AGwAqke6Jz8AbAqlPXXlZBBsCqU9deVkEGwEsDMxs5kgXANTMzMzMz27/ZzvdT46WTvDEzMzMzM9s/MzMzMzMzy78wMzMzMzPLP6FJDAIrhzY8CKZkzXQJ5D8JpmTNdAnkPwqmZM10CeQ/XmCyAq2S2T9eYLICrZLZP1TpNtXgJMY/CqZkzXQJ5L8KpmTNdAnkvwmmZM10CeS/XmCyAq2S2b9eYLICrZLZv1HpNtXgJMa/RXMbAHJRAEBsXv866bgCQJNJ43VgIAVAt2LBkDI6AkDeTaXLqaEEQClSZyHzIgRACqR7onPwBkAKpHuic/AGQAmke6Jz8AZAqlPXXlZBBkCqU9deVkEGQEsDMxs5kgVARpnggNS1/z9ImeCA1LX/P0iZ4IDUtf8/dW+VpAm8AUB3b5WkCbwBQEiSuggpnQNA",
          "dtype": "f8"
         },
         "y": {
          "bdata": "MzMzMzMz278AAAAAAAAAADMzMzMzM9s/MzMzMzMzy78zMzMzMzPLPwAAAAAAAAAACKZkzXQJ5D8IpmTNdAnkPwmmZM10CeQ/XGCyAq2S2T9cYLICrZLZP1HpNtXgJMY/CaZkzXQJ5L8IpmTNdAnkvwimZM10CeS/XGCyAq2S2b9cYLICrZLZv1HpNtXgJMa/ieY2AOSi+D/XvP510nH9P5NJ43VgIAFAbMWCIWV0/D/dTaXLqaEAQClSZyHzIgBACqR7onPwAkAKpHuic/ACQAmke6Jz8AJAqlPXXlZBAkCqU9deVkECQEsDMxs5kgFARpnggNS19z9ImeCA1LX3P0mZ4IDUtfc/694qSRN4+z/s3ipJE3j7P5AkdRFSOv8/7Oc8J20xAkDs5zwnbTECQOznPCdtMQJA6uc8J20xA0Ds5zwnbTEDQOrnPCdtMQRAt9GzacMlA0C30bNpwyUDQLfRs2nDJQNAe45t1ST+A0B5jm3VJP4DQDxLJ0GG1gRAttGzacMlA0C30bNpwyUDQLfRs2nDJQNAeY5t1ST+A0B7jm3VJP4DQDxLJ0GG1gRAk0njdWAgAUDXvP510nH9P4jmNgDkovg/3U2ly6mhAEBsxYIhZXT8PylSZyHzIgBASZnggNS19z9ImeCA1LX3P0aZ4IDUtfc/7N4qSRN4+z/r3ipJE3j7P5AkdRFSOv8/CaR7onPwAkAKpHuic/ACQAqke6Jz8AJAqlPXXlZBAkCqU9deVkECQEsDMxs5kgFAMzMzMzMz2z/tUpuj+ON/vDMzMzMzM9u/MzMzMzMzyz8zMzMzMzPLv+koaxSeQks8CKZkzXQJ5L8IpmTNdAnkvwmmZM10CeS/XGCyAq2S2b9cYLICrZLZv1HpNtXgJMa/CKZkzXQJ5D8IpmTNdAnkPwimZM10CeQ/XGCyAq2S2T9cYLICrZLZP1HpNtXgJMY/iOY2AOSi+L/XvP510nH9v5NJ43VgIAHAbMWCIWV0/L/dTaXLqaEAwClSZyHzIgDACqR7onPwAsAKpHuic/ACwAmke6Jz8ALAqlPXXlZBAsCqU9deVkECwEsDMxs5kgHARpnggNS1979ImeCA1LX3v0mZ4IDUtfe/694qSRN4+7/s3ipJE3j7v5AkdRFSOv+/7Oc8J20xAsDs5zwnbTECwOznPCdtMQLA7Oc8J20xA8Dq5zwnbTEDwOrnPCdtMQTAt9GzacMlA8C30bNpwyUDwLbRs2nDJQPAe45t1ST+A8B5jm3VJP4DwDxLJ0GG1gTAt9GzacMlA8C30bNpwyUDwLfRs2nDJQPAeY5t1ST+A8B7jm3VJP4DwDxLJ0GG1gTAk0njdWAgAcDXvP510nH9v4nmNgDkovi/3U2ly6mhAMBsxYIhZXT8vylSZyHzIgDASZnggNS1979ImeCA1LX3v0aZ4IDUtfe/7N4qSRN4+7/r3ipJE3j7v5AkdRFSOv+/CaR7onPwAsAKpHuic/ACwAqke6Jz8ALAqlPXXlZBAsCqU9deVkECwEsDMxs5kgHA",
          "dtype": "f8"
         },
         "z": {
          "bdata": "YKtQE8N0/z9gq1ATw3T/P2CrUBPDdP8/y6FFtvP9+z/LoUW28/37PzWYOlkkh/g/AAAAAAAA+D8AAAAAAADwPwAAAAAAAOA/AAAAAAAA9D8AAAAAAADoPwAAAAAAAPA/AAAAAAAA4D8AAAAAAADwPwAAAAAAAPg/AAAAAAAA6D8AAAAAAAD0PwAAAAAAAPA/YKtQE8N0/z9gq1ATw3T/P2CrUBPDdP8/y6FFtvP9+z/LoUW28/37PzWYOlkkh/g/AQAAAAAA+D8AAAAAAADwPwAAAAAAAOA/AAAAAAAA9D8AAAAAAADoPwAAAAAAAPA/AAAAAAAA4D8AAAAAAADwPwAAAAAAAPg/AAAAAAAA6D8AAAAAAAD0PwAAAAAAAPA/YKtQE8N0/z9gq1ATw3T/P2CrUBPDdP8/y6FFtvP9+z/LoUW28/37PzWYOlkkh/g/AQAAAAAA+D8AAAAAAADwPwAAAAAAAOA/AAAAAAAA9D8AAAAAAADoPwAAAAAAAPA/AAAAAAAA4D8AAAAAAADwPwAAAAAAAPg/AAAAAAAA6D8AAAAAAAD0PwAAAAAAAPA/YKtQE8N0/z9gq1ATw3T/P2CrUBPDdP8/y6FFtvP9+z/LoUW28/37PzWYOlkkh/g/AAAAAAAA+D8AAAAAAADwPwEAAAAAAOA/AAAAAAAA9D8AAAAAAADoPwAAAAAAAPA/AQAAAAAA4D8AAAAAAADwPwAAAAAAAPg/AAAAAAAA6D8AAAAAAAD0PwAAAAAAAPA/YKtQE8N0/z9gq1ATw3T/P2CrUBPDdP8/y6FFtvP9+z/LoUW28/37PzWYOlkkh/g/AAAAAAAA+D8AAAAAAADwPwAAAAAAAOA/AAAAAAAA9D8AAAAAAADoPwAAAAAAAPA//v//////3z8AAAAAAADwPwAAAAAAAPg/AAAAAAAA6D8AAAAAAAD0PwAAAAAAAPA/YKtQE8N0/z9gq1ATw3T/P2CrUBPDdP8/y6FFtvP9+z/LoUW28/37PzWYOlkkh/g/AAAAAAAA+D8AAAAAAADwPwEAAAAAAOA/AAAAAAAA9D8AAAAAAADoPwAAAAAAAPA/AQAAAAAA4D8AAAAAAADwPwAAAAAAAPg/AAAAAAAA6D8AAAAAAAD0PwAAAAAAAPA/YKtQE8N0/z9gq1ATw3T/P2CrUBPDdP8/y6FFtvP9+z/LoUW28/37PzWYOlkkh/g/AAAAAAAA+D8AAAAAAADwPwAAAAAAAOA/AAAAAAAA9D8AAAAAAADoPwAAAAAAAPA/AAAAAAAA4D8AAAAAAADwPwEAAAAAAPg/AAAAAAAA6D8AAAAAAAD0PwAAAAAAAPA/YKtQE8N0/z9gq1ATw3T/P2CrUBPDdP8/y6FFtvP9+z/LoUW28/37PzWYOlkkh/g/AAAAAAAA+D8AAAAAAADwPwAAAAAAAOA/AAAAAAAA9D8AAAAAAADoPwAAAAAAAPA/AAAAAAAA4D8AAAAAAADwPwEAAAAAAPg/AAAAAAAA6D8AAAAAAAD0PwAAAAAAAPA/",
          "dtype": "f8"
         }
        }
       ],
       "layout": {
        "height": 600,
        "legend": {
         "tracegroupgap": 0
        },
        "scene": {
         "aspectmode": "data",
         "domain": {
          "x": [
           0,
           1
          ],
          "y": [
           0,
           1
          ]
         },
         "xaxis": {
          "title": {
           "text": "x"
          }
         },
         "yaxis": {
          "title": {
           "text": "y"
          }
         },
         "zaxis": {
          "title": {
           "text": "z"
          }
         }
        },
        "template": {
         "data": {
          "bar": [
           {
            "error_x": {
             "color": "#2a3f5f"
            },
            "error_y": {
             "color": "#2a3f5f"
            },
            "marker": {
             "line": {
              "color": "#E5ECF6",
              "width": 0.5
             },
             "pattern": {
              "fillmode": "overlay",
              "size": 10,
              "solidity": 0.2
             }
            },
            "type": "bar"
           }
          ],
          "barpolar": [
           {
            "marker": {
             "line": {
              "color": "#E5ECF6",
              "width": 0.5
             },
             "pattern": {
              "fillmode": "overlay",
              "size": 10,
              "solidity": 0.2
             }
            },
            "type": "barpolar"
           }
          ],
          "carpet": [
           {
            "aaxis": {
             "endlinecolor": "#2a3f5f",
             "gridcolor": "white",
             "linecolor": "white",
             "minorgridcolor": "white",
             "startlinecolor": "#2a3f5f"
            },
            "baxis": {
             "endlinecolor": "#2a3f5f",
             "gridcolor": "white",
             "linecolor": "white",
             "minorgridcolor": "white",
             "startlinecolor": "#2a3f5f"
            },
            "type": "carpet"
           }
          ],
          "choropleth": [
           {
            "colorbar": {
             "outlinewidth": 0,
             "ticks": ""
            },
            "type": "choropleth"
           }
          ],
          "contour": [
           {
            "colorbar": {
             "outlinewidth": 0,
             "ticks": ""
            },
            "colorscale": [
             [
              0,
              "#0d0887"
             ],
             [
              0.1111111111111111,
              "#46039f"
             ],
             [
              0.2222222222222222,
              "#7201a8"
             ],
             [
              0.3333333333333333,
              "#9c179e"
             ],
             [
              0.4444444444444444,
              "#bd3786"
             ],
             [
              0.5555555555555556,
              "#d8576b"
             ],
             [
              0.6666666666666666,
              "#ed7953"
             ],
             [
              0.7777777777777778,
              "#fb9f3a"
             ],
             [
              0.8888888888888888,
              "#fdca26"
             ],
             [
              1,
              "#f0f921"
             ]
            ],
            "type": "contour"
           }
          ],
          "contourcarpet": [
           {
            "colorbar": {
             "outlinewidth": 0,
             "ticks": ""
            },
            "type": "contourcarpet"
           }
          ],
          "heatmap": [
           {
            "colorbar": {
             "outlinewidth": 0,
             "ticks": ""
            },
            "colorscale": [
             [
              0,
              "#0d0887"
             ],
             [
              0.1111111111111111,
              "#46039f"
             ],
             [
              0.2222222222222222,
              "#7201a8"
             ],
             [
              0.3333333333333333,
              "#9c179e"
             ],
             [
              0.4444444444444444,
              "#bd3786"
             ],
             [
              0.5555555555555556,
              "#d8576b"
             ],
             [
              0.6666666666666666,
              "#ed7953"
             ],
             [
              0.7777777777777778,
              "#fb9f3a"
             ],
             [
              0.8888888888888888,
              "#fdca26"
             ],
             [
              1,
              "#f0f921"
             ]
            ],
            "type": "heatmap"
           }
          ],
          "histogram": [
           {
            "marker": {
             "pattern": {
              "fillmode": "overlay",
              "size": 10,
              "solidity": 0.2
             }
            },
            "type": "histogram"
           }
          ],
          "histogram2d": [
           {
            "colorbar": {
             "outlinewidth": 0,
             "ticks": ""
            },
            "colorscale": [
             [
              0,
              "#0d0887"
             ],
             [
              0.1111111111111111,
              "#46039f"
             ],
             [
              0.2222222222222222,
              "#7201a8"
             ],
             [
              0.3333333333333333,
              "#9c179e"
             ],
             [
              0.4444444444444444,
              "#bd3786"
             ],
             [
              0.5555555555555556,
              "#d8576b"
             ],
             [
              0.6666666666666666,
              "#ed7953"
             ],
             [
              0.7777777777777778,
              "#fb9f3a"
             ],
             [
              0.8888888888888888,
              "#fdca26"
             ],
             [
              1,
              "#f0f921"
             ]
            ],
            "type": "histogram2d"
           }
          ],
          "histogram2dcontour": [
           {
            "colorbar": {
             "outlinewidth": 0,
             "ticks": ""
            },
            "colorscale": [
             [
              0,
              "#0d0887"
             ],
             [
              0.1111111111111111,
              "#46039f"
             ],
             [
              0.2222222222222222,
              "#7201a8"
             ],
             [
              0.3333333333333333,
              "#9c179e"
             ],
             [
              0.4444444444444444,
              "#bd3786"
             ],
             [
              0.5555555555555556,
              "#d8576b"
             ],
             [
              0.6666666666666666,
              "#ed7953"
             ],
             [
              0.7777777777777778,
              "#fb9f3a"
             ],
             [
              0.8888888888888888,
              "#fdca26"
             ],
             [
              1,
              "#f0f921"
             ]
            ],
            "type": "histogram2dcontour"
           }
          ],
          "mesh3d": [
           {
            "colorbar": {
             "outlinewidth": 0,
             "ticks": ""
            },
            "type": "mesh3d"
           }
          ],
          "parcoords": [
           {
            "line": {
             "colorbar": {
              "outlinewidth": 0,
              "ticks": ""
             }
            },
            "type": "parcoords"
           }
          ],
          "pie": [
           {
            "automargin": true,
            "type": "pie"
           }
          ],
          "scatter": [
           {
            "fillpattern": {
             "fillmode": "overlay",
             "size": 10,
             "solidity": 0.2
            },
            "type": "scatter"
           }
          ],
          "scatter3d": [
           {
            "line": {
             "colorbar": {
              "outlinewidth": 0,
              "ticks": ""
             }
            },
            "marker": {
             "colorbar": {
              "outlinewidth": 0,
              "ticks": ""
             }
            },
            "type": "scatter3d"
           }
          ],
          "scattercarpet": [
           {
            "marker": {
             "colorbar": {
              "outlinewidth": 0,
              "ticks": ""
             }
            },
            "type": "scattercarpet"
           }
          ],
          "scattergeo": [
           {
            "marker": {
             "colorbar": {
              "outlinewidth": 0,
              "ticks": ""
             }
            },
            "type": "scattergeo"
           }
          ],
          "scattergl": [
           {
            "marker": {
             "colorbar": {
              "outlinewidth": 0,
              "ticks": ""
             }
            },
            "type": "scattergl"
           }
          ],
          "scattermap": [
           {
            "marker": {
             "colorbar": {
              "outlinewidth": 0,
              "ticks": ""
             }
            },
            "type": "scattermap"
           }
          ],
          "scattermapbox": [
           {
            "marker": {
             "colorbar": {
              "outlinewidth": 0,
              "ticks": ""
             }
            },
            "type": "scattermapbox"
           }
          ],
          "scatterpolar": [
           {
            "marker": {
             "colorbar": {
              "outlinewidth": 0,
              "ticks": ""
             }
            },
            "type": "scatterpolar"
           }
          ],
          "scatterpolargl": [
           {
            "marker": {
             "colorbar": {
              "outlinewidth": 0,
              "ticks": ""
             }
            },
            "type": "scatterpolargl"
           }
          ],
          "scatterternary": [
           {
            "marker": {
             "colorbar": {
              "outlinewidth": 0,
              "ticks": ""
             }
            },
            "type": "scatterternary"
           }
          ],
          "surface": [
           {
            "colorbar": {
             "outlinewidth": 0,
             "ticks": ""
            },
            "colorscale": [
             [
              0,
              "#0d0887"
             ],
             [
              0.1111111111111111,
              "#46039f"
             ],
             [
              0.2222222222222222,
              "#7201a8"
             ],
             [
              0.3333333333333333,
              "#9c179e"
             ],
             [
              0.4444444444444444,
              "#bd3786"
             ],
             [
              0.5555555555555556,
              "#d8576b"
             ],
             [
              0.6666666666666666,
              "#ed7953"
             ],
             [
              0.7777777777777778,
              "#fb9f3a"
             ],
             [
              0.8888888888888888,
              "#fdca26"
             ],
             [
              1,
              "#f0f921"
             ]
            ],
            "type": "surface"
           }
          ],
          "table": [
           {
            "cells": {
             "fill": {
              "color": "#EBF0F8"
             },
             "line": {
              "color": "white"
             }
            },
            "header": {
             "fill": {
              "color": "#C8D4E3"
             },
             "line": {
              "color": "white"
             }
            },
            "type": "table"
           }
          ]
         },
         "layout": {
          "annotationdefaults": {
           "arrowcolor": "#2a3f5f",
           "arrowhead": 0,
           "arrowwidth": 1
          },
          "autotypenumbers": "strict",
          "coloraxis": {
           "colorbar": {
            "outlinewidth": 0,
            "ticks": ""
           }
          },
          "colorscale": {
           "diverging": [
            [
             0,
             "#8e0152"
            ],
            [
             0.1,
             "#c51b7d"
            ],
            [
             0.2,
             "#de77ae"
            ],
            [
             0.3,
             "#f1b6da"
            ],
            [
             0.4,
             "#fde0ef"
            ],
            [
             0.5,
             "#f7f7f7"
            ],
            [
             0.6,
             "#e6f5d0"
            ],
            [
             0.7,
             "#b8e186"
            ],
            [
             0.8,
             "#7fbc41"
            ],
            [
             0.9,
             "#4d9221"
            ],
            [
             1,
             "#276419"
            ]
           ],
           "sequential": [
            [
             0,
             "#0d0887"
            ],
            [
             0.1111111111111111,
             "#46039f"
            ],
            [
             0.2222222222222222,
             "#7201a8"
            ],
            [
             0.3333333333333333,
             "#9c179e"
            ],
            [
             0.4444444444444444,
             "#bd3786"
            ],
            [
             0.5555555555555556,
             "#d8576b"
            ],
            [
             0.6666666666666666,
             "#ed7953"
            ],
            [
             0.7777777777777778,
             "#fb9f3a"
            ],
            [
             0.8888888888888888,
             "#fdca26"
            ],
            [
             1,
             "#f0f921"
            ]
           ],
           "sequentialminus": [
            [
             0,
             "#0d0887"
            ],
            [
             0.1111111111111111,
             "#46039f"
            ],
            [
             0.2222222222222222,
             "#7201a8"
            ],
            [
             0.3333333333333333,
             "#9c179e"
            ],
            [
             0.4444444444444444,
             "#bd3786"
            ],
            [
             0.5555555555555556,
             "#d8576b"
            ],
            [
             0.6666666666666666,
             "#ed7953"
            ],
            [
             0.7777777777777778,
             "#fb9f3a"
            ],
            [
             0.8888888888888888,
             "#fdca26"
            ],
            [
             1,
             "#f0f921"
            ]
           ]
          },
          "colorway": [
           "#636efa",
           "#EF553B",
           "#00cc96",
           "#ab63fa",
           "#FFA15A",
           "#19d3f3",
           "#FF6692",
           "#B6E880",
           "#FF97FF",
           "#FECB52"
          ],
          "font": {
           "color": "#2a3f5f"
          },
          "geo": {
           "bgcolor": "white",
           "lakecolor": "white",
           "landcolor": "#E5ECF6",
           "showlakes": true,
           "showland": true,
           "subunitcolor": "white"
          },
          "hoverlabel": {
           "align": "left"
          },
          "hovermode": "closest",
          "mapbox": {
           "style": "light"
          },
          "paper_bgcolor": "white",
          "plot_bgcolor": "#E5ECF6",
          "polar": {
           "angularaxis": {
            "gridcolor": "white",
            "linecolor": "white",
            "ticks": ""
           },
           "bgcolor": "#E5ECF6",
           "radialaxis": {
            "gridcolor": "white",
            "linecolor": "white",
            "ticks": ""
           }
          },
          "scene": {
           "xaxis": {
            "backgroundcolor": "#E5ECF6",
            "gridcolor": "white",
            "gridwidth": 2,
            "linecolor": "white",
            "showbackground": true,
            "ticks": "",
            "zerolinecolor": "white"
           },
           "yaxis": {
            "backgroundcolor": "#E5ECF6",
            "gridcolor": "white",
            "gridwidth": 2,
            "linecolor": "white",
            "showbackground": true,
            "ticks": "",
            "zerolinecolor": "white"
           },
           "zaxis": {
            "backgroundcolor": "#E5ECF6",
            "gridcolor": "white",
            "gridwidth": 2,
            "linecolor": "white",
            "showbackground": true,
            "ticks": "",
            "zerolinecolor": "white"
           }
          },
          "shapedefaults": {
           "line": {
            "color": "#2a3f5f"
           }
          },
          "ternary": {
           "aaxis": {
            "gridcolor": "white",
            "linecolor": "white",
            "ticks": ""
           },
           "baxis": {
            "gridcolor": "white",
            "linecolor": "white",
            "ticks": ""
           },
           "bgcolor": "#E5ECF6",
           "caxis": {
            "gridcolor": "white",
            "linecolor": "white",
            "ticks": ""
           }
          },
          "title": {
           "x": 0.05
          },
          "xaxis": {
           "automargin": true,
           "gridcolor": "white",
           "linecolor": "white",
           "ticks": "",
           "title": {
            "standoff": 15
           },
           "zerolinecolor": "white",
           "zerolinewidth": 2
          },
          "yaxis": {
           "automargin": true,
           "gridcolor": "white",
           "linecolor": "white",
           "ticks": "",
           "title": {
            "standoff": 15
           },
           "zerolinecolor": "white",
           "zerolinewidth": 2
          }
         }
        },
        "title": {
         "text": "autogen.obc"
        },
        "width": 800
       }
      }
     },
     "metadata": {},
     "output_type": "display_data"
    }
   ],
   "source": [
    "import plotly.express as px\n",
    "import pandas as pd\n",
    "from datatypes import *\n",
    "from utils import *\n",
    "\n",
    "# Example DataFrame\n",
    "df = read_obc(os.path.join(os.getcwd(), \"..\", \"ros2_ws\", \"src\", \"simulation\", \"worlds\", \"autogen.obc\"))\n",
    "\n",
    "# Create interactive scatter plot\n",
    "fig = px.scatter_3d(\n",
    "    df,\n",
    "    x=\"x\",\n",
    "    y=\"y\",\n",
    "    z=\"z\",\n",
    "    hover_name=\"id\",  # Show label on hover\n",
    "    title=\"autogen.obc\",\n",
    ")\n",
    "fig.update_layout(\n",
    "    scene=dict(\n",
    "        aspectmode=\"data\"  # Ensures x, y, z use the same scale\n",
    "    )\n",
    ")\n",
    "fig.update_traces(marker=dict(size=2))\n",
    "fig.update_layout(\n",
    "    width=800,   # default ~700\n",
    "    height=600  # increase vertical size\n",
    ")\n",
    "fig.show()\n"
   ]
  }
 ],
 "metadata": {
  "kernelspec": {
   "display_name": "venv",
   "language": "python",
   "name": "python3"
  },
  "language_info": {
   "codemirror_mode": {
    "name": "ipython",
    "version": 3
   },
   "file_extension": ".py",
   "mimetype": "text/x-python",
   "name": "python",
   "nbconvert_exporter": "python",
   "pygments_lexer": "ipython3",
   "version": "3.12.3"
  }
 },
 "nbformat": 4,
 "nbformat_minor": 2
}
